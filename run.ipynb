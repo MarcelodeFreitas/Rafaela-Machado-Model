{
 "cells": [
  {
   "cell_type": "code",
   "execution_count": 1,
   "metadata": {},
   "outputs": [],
   "source": [
    "import sound_emotion_fmdeploy as script\n",
    "\n",
    "modelpaths = [\n",
    "    {\n",
    "        \"name\": \"best_MPLEmotions_model.h5\",\n",
    "        \"path\": \"./best_MPLEmotions_model.h5\"\n",
    "    }\n",
    "]\n",
    "\n",
    "input_file_path = \"./input/forest.wav\"\n",
    "output_directory_path = \"./output/\"\n",
    "output_file_name = \"output_result\""
   ]
  },
  {
   "cell_type": "code",
   "execution_count": 2,
   "metadata": {},
   "outputs": [],
   "source": [
    "import os\n",
    "\n",
    "os.makedirs(\"output\", exist_ok=True)"
   ]
  },
  {
   "cell_type": "code",
   "execution_count": 3,
   "metadata": {},
   "outputs": [],
   "source": [
    "script.load_models(modelpaths)"
   ]
  },
  {
   "cell_type": "code",
   "execution_count": 4,
   "metadata": {},
   "outputs": [
    {
     "data": {
      "image/png": "[encoded data removed]",
      "text/plain": [
       "<Figure size 432x288 with 1 Axes>"
      ]
     },
     "metadata": {
      "needs_background": "light"
     },
     "output_type": "display_data"
    },
    {
     "name": "stdout",
     "output_type": "stream",
     "text": [
      "Top guess:  Anger  ( 0.269 )\n",
      "2nd guess:  Surprise  ( 0.194 )\n"
     ]
    }
   ],
   "source": [
    "script.run(input_file_path, output_file_name, output_directory_path)"
   ]
  }
 ],
 "metadata": {
  "interpreter": {
   "hash": "674a9efdd39a0462ee620821ba758b3cf2e682c2fa47bfbd8abc81f95411ec22"
  },
  "kernelspec": {
   "display_name": "Python 3.7.7 64-bit ('env': venv)",
   "name": "python3"
  },
  "language_info": {
   "codemirror_mode": {
    "name": "ipython",
    "version": 3
   },
   "file_extension": ".py",
   "mimetype": "text/x-python",
   "name": "python",
   "nbconvert_exporter": "python",
   "pygments_lexer": "ipython3",
   "version": "3.7.7"
  },
  "orig_nbformat": 4
 },
 "nbformat": 4,
 "nbformat_minor": 2
}
