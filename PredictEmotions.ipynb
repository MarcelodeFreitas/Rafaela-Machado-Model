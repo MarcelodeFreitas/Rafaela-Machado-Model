{
 "cells": [
  {
   "cell_type": "code",
   "execution_count": 3,
   "metadata": {},
   "outputs": [],
   "source": [
    "import librosa\n",
    "import numpy as np\n",
    "import tensorflow as tf\n",
    "from tensorflow.keras.models import load_model\n",
    "import matplotlib.pyplot as plt"
   ]
  },
  {
   "cell_type": "code",
   "execution_count": 2,
   "metadata": {},
   "outputs": [],
   "source": [
    "def extract_features(filename):\n",
    "    features = np.empty((0,193))\n",
    "    X, sample_rate = librosa.load(filename)\n",
    "    stft = np.abs(librosa.stft(X))\n",
    "    mfccs = np.mean(librosa.feature.mfcc(y=X, sr=sample_rate, n_mfcc=40).T,axis=0)\n",
    "    chroma = np.mean(librosa.feature.chroma_stft(S=stft, sr=sample_rate).T,axis=0)\n",
    "    mel = np.mean(librosa.feature.melspectrogram(X, sr=sample_rate).T,axis=0)\n",
    "    contrast = np.mean(librosa.feature.spectral_contrast(S=stft, sr=sample_rate).T,axis=0)\n",
    "    tonnetz = np.mean(librosa.feature.tonnetz(y=librosa.effects.harmonic(X), sr=sample_rate).T,axis=0)\n",
    "    ext_features = np.hstack([mfccs,chroma,mel,contrast,tonnetz])\n",
    "    features = np.vstack([features,ext_features])\n",
    "    return features"
   ]
  },
  {
   "cell_type": "code",
   "execution_count": 24,
   "metadata": {},
   "outputs": [],
   "source": [
    "def predict_sound(filepath, sound_file_path):\n",
    "    emotions = [\"Anger\",\"Excitement\",\"Fear\",\"Joy\",\"Relaxing\",\"Sadness\",\n",
    "               \"Surprise\"]\n",
    "    with tf.device('/cpu:0'):\n",
    "        model = load_model(filepath, compile = True)\n",
    "    \n",
    "    sound = extract_features(sound_file_path)\n",
    "    \n",
    "    prediction = model.predict(sound)\n",
    "    \n",
    "    if len(prediction) == 0: \n",
    "        print (\"No prediction\")\n",
    "\n",
    "    ind = np.argpartition(prediction[0], -2)[-2:]\n",
    "    ind[np.argsort(prediction[0][ind])]\n",
    "    ind = ind[::-1]\n",
    "    \n",
    "    emotion_result = [\"Top guess: \" + emotions[ind[0]], \"2nd guess: \" + emotions[ind[1]]]\n",
    "    print(\"emotion_result: \", emotion_result)\n",
    "    percentage_result = [round(prediction[0,ind[0]]*100,1), round(prediction[0,ind[1]]*100,1)]\n",
    "    print(\"percentage_result: \", percentage_result)\n",
    "    \n",
    "    plt.bar(emotion_result, percentage_result)\n",
    "    plt.title('Sound emotion prediction')\n",
    "    plt.xlabel('Emotion')\n",
    "    plt.ylabel('Prediction accuracy (%)')\n",
    "    plt.text(0, round(prediction[0,ind[0]]*100,1) + 0.25, round(prediction[0,ind[0]]*100,1), fontweight = 'bold')\n",
    "    plt.text(1, round(prediction[0,ind[1]]*100,1) + 0.25, round(prediction[0,ind[1]]*100,1), fontweight = 'bold')\n",
    "    plt.savefig(\"output.png\", format=\"png\", dpi=400)\n",
    "    plt.show()\n",
    "    \n",
    "    print (\"Top guess: \", emotions[ind[0]], \" (\",round(prediction[0,ind[0]],3),\")\")\n",
    "    print (\"2nd guess: \", emotions[ind[1]], \" (\",round(prediction[0,ind[1]],3),\")\")"
   ]
  },
  {
   "cell_type": "code",
   "execution_count": 25,
   "metadata": {},
   "outputs": [
    {
     "name": "stdout",
     "output_type": "stream",
     "text": [
      "emotion_result:  ['Top guess: Anger', '2nd guess: Surprise']\n",
      "percentage_result:  [27.2, 23.9]\n"
     ]
    },
    {
     "data": {
      "image/png": "[encoded data removed]",
      "text/plain": [
       "<Figure size 432x288 with 1 Axes>"
      ]
     },
     "metadata": {
      "needs_background": "light"
     },
     "output_type": "display_data"
    },
    {
     "name": "stdout",
     "output_type": "stream",
     "text": [
      "Top guess:  Anger  ( 0.272 )\n",
      "2nd guess:  Surprise  ( 0.239 )\n"
     ]
    }
   ],
   "source": [
    "sound = 'input/shopping.wav'\n",
    "model = 'best_MPLEmotions_model.h5'\n",
    "predict_sound(model, sound)"
   ]
  },
  {
   "cell_type": "code",
   "execution_count": null,
   "metadata": {},
   "outputs": [],
   "source": [
    "sound2 = 'input/hospital-corridor.wav'\n",
    "predict_sound(model, sound2)"
   ]
  },
  {
   "cell_type": "code",
   "execution_count": null,
   "metadata": {},
   "outputs": [],
   "source": [
    "sound3 = 'input/enviroment-hospital.wav'\n",
    "predict_sound(model, sound3)"
   ]
  },
  {
   "cell_type": "code",
   "execution_count": null,
   "metadata": {},
   "outputs": [],
   "source": [
    "sound4 = 'input/lo-fi-beat.wav'\n",
    "predict_sound(model, sound4)"
   ]
  },
  {
   "cell_type": "code",
   "execution_count": null,
   "metadata": {},
   "outputs": [],
   "source": [
    "sound5 = 'input/forest.wav'\n",
    "predict_sound(model, sound5)"
   ]
  },
  {
   "cell_type": "code",
   "execution_count": null,
   "metadata": {},
   "outputs": [],
   "source": [
    "sound6 = 'input/music_relax.wav'\n",
    "predict_sound(model, sound6)"
   ]
  },
  {
   "cell_type": "code",
   "execution_count": null,
   "metadata": {},
   "outputs": [],
   "source": []
  }
 ],
 "metadata": {
  "kernelspec": {
   "display_name": "Python 3",
   "language": "python",
   "name": "python3"
  },
  "language_info": {
   "codemirror_mode": {
    "name": "ipython",
    "version": 3
   },
   "file_extension": ".py",
   "mimetype": "text/x-python",
   "name": "python",
   "nbconvert_exporter": "python",
   "pygments_lexer": "ipython3",
   "version": "3.7.7"
  }
 },
 "nbformat": 4,
 "nbformat_minor": 4
}
