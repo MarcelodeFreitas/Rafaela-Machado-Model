{
 "cells": [
  {
   "cell_type": "code",
   "execution_count": 1,
   "metadata": {},
   "outputs": [],
   "source": [
    "import librosa\n",
    "import librosa.display\n",
    "import numpy as np\n",
    "import tensorflow as tf\n",
    "from tensorflow.keras.models import load_model"
   ]
  },
  {
   "cell_type": "code",
   "execution_count": 2,
   "metadata": {},
   "outputs": [],
   "source": [
    "def extract_features(filename):\n",
    "    features = np.empty((0,193))\n",
    "    X, sample_rate = librosa.load(filename)\n",
    "    stft = np.abs(librosa.stft(X))\n",
    "    mfccs = np.mean(librosa.feature.mfcc(y=X, sr=sample_rate, n_mfcc=40).T,axis=0)\n",
    "    chroma = np.mean(librosa.feature.chroma_stft(S=stft, sr=sample_rate).T,axis=0)\n",
    "    mel = np.mean(librosa.feature.melspectrogram(X, sr=sample_rate).T,axis=0)\n",
    "    contrast = np.mean(librosa.feature.spectral_contrast(S=stft, sr=sample_rate).T,axis=0)\n",
    "    tonnetz = np.mean(librosa.feature.tonnetz(y=librosa.effects.harmonic(X), sr=sample_rate).T,axis=0)\n",
    "    ext_features = np.hstack([mfccs,chroma,mel,contrast,tonnetz])\n",
    "    features = np.vstack([features,ext_features])\n",
    "    return features"
   ]
  },
  {
   "cell_type": "code",
   "execution_count": 3,
   "metadata": {},
   "outputs": [],
   "source": [
    "def predict_sound(filepath, sound_file_path):\n",
    "    emotions = [\"Anger\",\"Excitement\",\"Fear\",\"Joy\",\"Relaxing\",\"Sadness\",\n",
    "               \"Surprise\"]\n",
    "    with tf.device('/cpu:0'):\n",
    "        model = load_model(filepath, compile = True)\n",
    "    \n",
    "    sound = extract_features(sound_file_path)\n",
    "    \n",
    "    prediction = model.predict(sound)\n",
    "    \n",
    "    if len(prediction) == 0: \n",
    "        print (\"No prediction\")\n",
    "\n",
    "    ind = np.argpartition(prediction[0], -2)[-2:]\n",
    "    ind[np.argsort(prediction[0][ind])]\n",
    "    ind = ind[::-1]\n",
    "\n",
    "    print (\"Top guess: \", emotions[ind[0]], \" (\",round(prediction[0,ind[0]],3),\")\")\n",
    "    print (\"2nd guess: \", emotions[ind[1]], \" (\",round(prediction[0,ind[1]],3),\")\")"
   ]
  },
  {
   "cell_type": "code",
   "execution_count": 4,
   "metadata": {},
   "outputs": [
    {
     "name": "stdout",
     "output_type": "stream",
     "text": [
      "Top guess:  Anger  ( 0.272 )\n",
      "2nd guess:  Surprise  ( 0.239 )\n"
     ]
    }
   ],
   "source": [
    "sound = 'sounds/shopping.wav'\n",
    "model = 'best_MPLEmotions_model.h5'\n",
    "predict_sound(model, sound)"
   ]
  },
  {
   "cell_type": "code",
   "execution_count": 5,
   "metadata": {},
   "outputs": [
    {
     "name": "stdout",
     "output_type": "stream",
     "text": [
      "Top guess:  Anger  ( 0.349 )\n",
      "2nd guess:  Fear  ( 0.299 )\n"
     ]
    }
   ],
   "source": [
    "sound2 = 'sounds/hospital-corridor.wav'\n",
    "predict_sound(model, sound2)"
   ]
  },
  {
   "cell_type": "code",
   "execution_count": 6,
   "metadata": {},
   "outputs": [
    {
     "name": "stdout",
     "output_type": "stream",
     "text": [
      "Top guess:  Anger  ( 0.296 )\n",
      "2nd guess:  Surprise  ( 0.267 )\n"
     ]
    }
   ],
   "source": [
    "sound3 = 'sounds/enviroment-hospital.wav'\n",
    "predict_sound(model, sound3)"
   ]
  },
  {
   "cell_type": "code",
   "execution_count": 7,
   "metadata": {},
   "outputs": [
    {
     "name": "stdout",
     "output_type": "stream",
     "text": [
      "Top guess:  Fear  ( 0.384 )\n",
      "2nd guess:  Surprise  ( 0.356 )\n"
     ]
    }
   ],
   "source": [
    "sound4 = 'sounds/lo-fi-beat.wav'\n",
    "predict_sound(model, sound4)"
   ]
  },
  {
   "cell_type": "code",
   "execution_count": 8,
   "metadata": {},
   "outputs": [
    {
     "name": "stdout",
     "output_type": "stream",
     "text": [
      "Top guess:  Anger  ( 0.269 )\n",
      "2nd guess:  Surprise  ( 0.194 )\n"
     ]
    }
   ],
   "source": [
    "sound5 = 'sounds/forest.wav'\n",
    "predict_sound(model, sound5)"
   ]
  },
  {
   "cell_type": "code",
   "execution_count": 9,
   "metadata": {},
   "outputs": [
    {
     "name": "stdout",
     "output_type": "stream",
     "text": [
      "Top guess:  Joy  ( 0.461 )\n",
      "2nd guess:  Relaxing  ( 0.212 )\n"
     ]
    }
   ],
   "source": [
    "sound6 = 'sounds/music_relax.wav'\n",
    "predict_sound(model, sound6)"
   ]
  },
  {
   "cell_type": "code",
   "execution_count": null,
   "metadata": {},
   "outputs": [],
   "source": []
  }
 ],
 "metadata": {
  "kernelspec": {
   "display_name": "Python 3",
   "language": "python",
   "name": "python3"
  },
  "language_info": {
   "codemirror_mode": {
    "name": "ipython",
    "version": 3
   },
   "file_extension": ".py",
   "mimetype": "text/x-python",
   "name": "python",
   "nbconvert_exporter": "python",
   "pygments_lexer": "ipython3",
   "version": "3.7.7"
  }
 },
 "nbformat": 4,
 "nbformat_minor": 4
}
